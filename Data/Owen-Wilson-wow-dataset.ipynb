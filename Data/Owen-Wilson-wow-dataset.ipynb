{
 "cells": [
  {
   "cell_type": "markdown",
   "id": "ca8d47de",
   "metadata": {},
   "source": [
    "# The many WOWs of Owen Wilson\n",
    "Owen Wilson inspired many internet memes and soundboards with his Wow. But does he really say it that often? \n",
    "\n",
    "Let's take a look.\n",
    "\n",
    "![GIF of Owen Wilson saying wow](https://tenor.com/bTlrG.gif)"
   ]
  },
  {
   "cell_type": "markdown",
   "id": "825a9f9a",
   "metadata": {},
   "source": [
    "## Import dependencies"
   ]
  },
  {
   "cell_type": "code",
   "execution_count": 1,
   "id": "54f03be7",
   "metadata": {},
   "outputs": [],
   "source": [
    "import numpy as np\n",
    "import pandas as pd\n",
    "import matplotlib.pyplot as plt\n",
    "import seaborn as sns\n",
    "import requests\n",
    "import json"
   ]
  },
  {
   "cell_type": "markdown",
   "id": "db1b69e9",
   "metadata": {},
   "source": [
    "## ETL\n",
    "The credits for this data goes to [Amamenko](https://github.com/amamenko/owen-wilson-wow-api) on Github and their [Owen Wilson WOW API](https://github.com/amamenko/owen-wilson-wow-api). I used their API to call a JSON of all the WOW instances, and then transformed it into a Pandas PivotTable as follows."
   ]
  },
  {
   "cell_type": "markdown",
   "id": "1e3776ca",
   "metadata": {},
   "source": [
    "Make a GET Request from the Owen Wilson Wow API as JSON:"
   ]
  },
  {
   "cell_type": "code",
   "execution_count": 2,
   "id": "3e501fb1",
   "metadata": {},
   "outputs": [],
   "source": [
    "url = \"https://owen-wilson-wow-api.herokuapp.com/wows/random\"\n",
    "headers = {\"Accept\": \"application/json\"}\n",
    "response = requests.get(url, headers=headers, params={'results': 200, 'direction': 'asc', 'sort': 'release_date' })\n",
    "data = response.json()"
   ]
  },
  {
   "cell_type": "markdown",
   "id": "93dbc45e",
   "metadata": {},
   "source": [
    "Store the JSON as a Pandas DataFrame:"
   ]
  },
  {
   "cell_type": "code",
   "execution_count": 3,
   "id": "1d720f3f",
   "metadata": {},
   "outputs": [
    {
     "data": {
      "text/html": [
       "<div>\n",
       "<style scoped>\n",
       "    .dataframe tbody tr th:only-of-type {\n",
       "        vertical-align: middle;\n",
       "    }\n",
       "\n",
       "    .dataframe tbody tr th {\n",
       "        vertical-align: top;\n",
       "    }\n",
       "\n",
       "    .dataframe thead th {\n",
       "        text-align: right;\n",
       "    }\n",
       "</style>\n",
       "<table border=\"1\" class=\"dataframe\">\n",
       "  <thead>\n",
       "    <tr style=\"text-align: right;\">\n",
       "      <th></th>\n",
       "      <th>movie</th>\n",
       "      <th>year</th>\n",
       "      <th>release_date</th>\n",
       "      <th>director</th>\n",
       "      <th>character</th>\n",
       "      <th>movie_duration</th>\n",
       "      <th>timestamp</th>\n",
       "      <th>full_line</th>\n",
       "      <th>current_wow_in_movie</th>\n",
       "      <th>total_wows_in_movie</th>\n",
       "      <th>poster</th>\n",
       "      <th>video</th>\n",
       "      <th>audio</th>\n",
       "    </tr>\n",
       "  </thead>\n",
       "  <tbody>\n",
       "    <tr>\n",
       "      <th>0</th>\n",
       "      <td>Bottle Rocket</td>\n",
       "      <td>1996</td>\n",
       "      <td>1996-02-21</td>\n",
       "      <td>Wes Anderson</td>\n",
       "      <td>Dignan</td>\n",
       "      <td>01:31:44</td>\n",
       "      <td>01:04:45</td>\n",
       "      <td>Wow. Wow. Okay, no more fighting.</td>\n",
       "      <td>2</td>\n",
       "      <td>3</td>\n",
       "      <td>https://images.ctfassets.net/bs8ntwkklfua/4EY9...</td>\n",
       "      <td>{'1080p': 'https://videos.ctfassets.net/bs8ntw...</td>\n",
       "      <td>https://assets.ctfassets.net/bs8ntwkklfua/7GFD...</td>\n",
       "    </tr>\n",
       "    <tr>\n",
       "      <th>1</th>\n",
       "      <td>Bottle Rocket</td>\n",
       "      <td>1996</td>\n",
       "      <td>1996-02-21</td>\n",
       "      <td>Wes Anderson</td>\n",
       "      <td>Dignan</td>\n",
       "      <td>01:31:44</td>\n",
       "      <td>01:04:44</td>\n",
       "      <td>Wow. Wow. Okay, no more fighting.</td>\n",
       "      <td>1</td>\n",
       "      <td>3</td>\n",
       "      <td>https://images.ctfassets.net/bs8ntwkklfua/4EY9...</td>\n",
       "      <td>{'1080p': 'https://videos.ctfassets.net/bs8ntw...</td>\n",
       "      <td>https://assets.ctfassets.net/bs8ntwkklfua/4vqX...</td>\n",
       "    </tr>\n",
       "    <tr>\n",
       "      <th>2</th>\n",
       "      <td>Bottle Rocket</td>\n",
       "      <td>1996</td>\n",
       "      <td>1996-02-21</td>\n",
       "      <td>Wes Anderson</td>\n",
       "      <td>Dignan</td>\n",
       "      <td>01:31:44</td>\n",
       "      <td>01:08:25</td>\n",
       "      <td>Oh wow, that's one of your little drawings.</td>\n",
       "      <td>3</td>\n",
       "      <td>3</td>\n",
       "      <td>https://images.ctfassets.net/bs8ntwkklfua/4EY9...</td>\n",
       "      <td>{'1080p': 'https://videos.ctfassets.net/bs8ntw...</td>\n",
       "      <td>https://assets.ctfassets.net/bs8ntwkklfua/5xUO...</td>\n",
       "    </tr>\n",
       "    <tr>\n",
       "      <th>3</th>\n",
       "      <td>The Haunting</td>\n",
       "      <td>1999</td>\n",
       "      <td>1999-07-23</td>\n",
       "      <td>Jan de Bont</td>\n",
       "      <td>Luke Sanderson</td>\n",
       "      <td>01:52:37</td>\n",
       "      <td>00:23:30</td>\n",
       "      <td>Wow, you're so dominant.</td>\n",
       "      <td>2</td>\n",
       "      <td>5</td>\n",
       "      <td>https://images.ctfassets.net/bs8ntwkklfua/6Zu7...</td>\n",
       "      <td>{'1080p': 'https://videos.ctfassets.net/bs8ntw...</td>\n",
       "      <td>https://assets.ctfassets.net/bs8ntwkklfua/4ced...</td>\n",
       "    </tr>\n",
       "    <tr>\n",
       "      <th>4</th>\n",
       "      <td>The Haunting</td>\n",
       "      <td>1999</td>\n",
       "      <td>1999-07-23</td>\n",
       "      <td>Jan de Bont</td>\n",
       "      <td>Luke Sanderson</td>\n",
       "      <td>01:52:37</td>\n",
       "      <td>00:41:34</td>\n",
       "      <td>Wow, I sorta got screwed on the ol' bedroom se...</td>\n",
       "      <td>4</td>\n",
       "      <td>5</td>\n",
       "      <td>https://images.ctfassets.net/bs8ntwkklfua/6Zu7...</td>\n",
       "      <td>{'1080p': 'https://videos.ctfassets.net/bs8ntw...</td>\n",
       "      <td>https://assets.ctfassets.net/bs8ntwkklfua/3yvd...</td>\n",
       "    </tr>\n",
       "  </tbody>\n",
       "</table>\n",
       "</div>"
      ],
      "text/plain": [
       "           movie  year release_date      director       character  \\\n",
       "0  Bottle Rocket  1996   1996-02-21  Wes Anderson          Dignan   \n",
       "1  Bottle Rocket  1996   1996-02-21  Wes Anderson          Dignan   \n",
       "2  Bottle Rocket  1996   1996-02-21  Wes Anderson          Dignan   \n",
       "3   The Haunting  1999   1999-07-23   Jan de Bont  Luke Sanderson   \n",
       "4   The Haunting  1999   1999-07-23   Jan de Bont  Luke Sanderson   \n",
       "\n",
       "  movie_duration timestamp                                          full_line  \\\n",
       "0       01:31:44  01:04:45                  Wow. Wow. Okay, no more fighting.   \n",
       "1       01:31:44  01:04:44                  Wow. Wow. Okay, no more fighting.   \n",
       "2       01:31:44  01:08:25        Oh wow, that's one of your little drawings.   \n",
       "3       01:52:37  00:23:30                           Wow, you're so dominant.   \n",
       "4       01:52:37  00:41:34  Wow, I sorta got screwed on the ol' bedroom se...   \n",
       "\n",
       "   current_wow_in_movie  total_wows_in_movie  \\\n",
       "0                     2                    3   \n",
       "1                     1                    3   \n",
       "2                     3                    3   \n",
       "3                     2                    5   \n",
       "4                     4                    5   \n",
       "\n",
       "                                              poster  \\\n",
       "0  https://images.ctfassets.net/bs8ntwkklfua/4EY9...   \n",
       "1  https://images.ctfassets.net/bs8ntwkklfua/4EY9...   \n",
       "2  https://images.ctfassets.net/bs8ntwkklfua/4EY9...   \n",
       "3  https://images.ctfassets.net/bs8ntwkklfua/6Zu7...   \n",
       "4  https://images.ctfassets.net/bs8ntwkklfua/6Zu7...   \n",
       "\n",
       "                                               video  \\\n",
       "0  {'1080p': 'https://videos.ctfassets.net/bs8ntw...   \n",
       "1  {'1080p': 'https://videos.ctfassets.net/bs8ntw...   \n",
       "2  {'1080p': 'https://videos.ctfassets.net/bs8ntw...   \n",
       "3  {'1080p': 'https://videos.ctfassets.net/bs8ntw...   \n",
       "4  {'1080p': 'https://videos.ctfassets.net/bs8ntw...   \n",
       "\n",
       "                                               audio  \n",
       "0  https://assets.ctfassets.net/bs8ntwkklfua/7GFD...  \n",
       "1  https://assets.ctfassets.net/bs8ntwkklfua/4vqX...  \n",
       "2  https://assets.ctfassets.net/bs8ntwkklfua/5xUO...  \n",
       "3  https://assets.ctfassets.net/bs8ntwkklfua/4ced...  \n",
       "4  https://assets.ctfassets.net/bs8ntwkklfua/3yvd...  "
      ]
     },
     "execution_count": 3,
     "metadata": {},
     "output_type": "execute_result"
    }
   ],
   "source": [
    "df = pd.DataFrame(data)\n",
    "df.head()"
   ]
  },
  {
   "cell_type": "markdown",
   "id": "c7bf52cb",
   "metadata": {},
   "source": [
    "Drop columns not required anymore:"
   ]
  },
  {
   "cell_type": "code",
   "execution_count": 4,
   "id": "097cb55d",
   "metadata": {},
   "outputs": [],
   "source": [
    "df.drop(['poster','video','audio','full_line','current_wow_in_movie','timestamp'], axis=1, inplace=True)"
   ]
  },
  {
   "cell_type": "markdown",
   "id": "e8c84be0",
   "metadata": {},
   "source": [
    "Inspect dataframe information:"
   ]
  },
  {
   "cell_type": "code",
   "execution_count": 5,
   "id": "9c106bb7",
   "metadata": {},
   "outputs": [
    {
     "name": "stdout",
     "output_type": "stream",
     "text": [
      "<class 'pandas.core.frame.DataFrame'>\n",
      "RangeIndex: 91 entries, 0 to 90\n",
      "Data columns (total 7 columns):\n",
      " #   Column               Non-Null Count  Dtype \n",
      "---  ------               --------------  ----- \n",
      " 0   movie                91 non-null     object\n",
      " 1   year                 91 non-null     int64 \n",
      " 2   release_date         91 non-null     object\n",
      " 3   director             91 non-null     object\n",
      " 4   character            91 non-null     object\n",
      " 5   movie_duration       91 non-null     object\n",
      " 6   total_wows_in_movie  91 non-null     int64 \n",
      "dtypes: int64(2), object(5)\n",
      "memory usage: 5.1+ KB\n"
     ]
    }
   ],
   "source": [
    "df.info()"
   ]
  },
  {
   "cell_type": "code",
   "execution_count": 6,
   "id": "e7cc2f3c",
   "metadata": {},
   "outputs": [
    {
     "data": {
      "text/html": [
       "<div>\n",
       "<style scoped>\n",
       "    .dataframe tbody tr th:only-of-type {\n",
       "        vertical-align: middle;\n",
       "    }\n",
       "\n",
       "    .dataframe tbody tr th {\n",
       "        vertical-align: top;\n",
       "    }\n",
       "\n",
       "    .dataframe thead th {\n",
       "        text-align: right;\n",
       "    }\n",
       "</style>\n",
       "<table border=\"1\" class=\"dataframe\">\n",
       "  <thead>\n",
       "    <tr style=\"text-align: right;\">\n",
       "      <th></th>\n",
       "      <th>movie</th>\n",
       "      <th>year</th>\n",
       "      <th>release_date</th>\n",
       "      <th>director</th>\n",
       "      <th>character</th>\n",
       "      <th>movie_duration</th>\n",
       "      <th>total_wows_in_movie</th>\n",
       "    </tr>\n",
       "  </thead>\n",
       "  <tbody>\n",
       "    <tr>\n",
       "      <th>count</th>\n",
       "      <td>91</td>\n",
       "      <td>91.000000</td>\n",
       "      <td>91</td>\n",
       "      <td>91</td>\n",
       "      <td>91</td>\n",
       "      <td>91</td>\n",
       "      <td>91.000000</td>\n",
       "    </tr>\n",
       "    <tr>\n",
       "      <th>unique</th>\n",
       "      <td>29</td>\n",
       "      <td>NaN</td>\n",
       "      <td>29</td>\n",
       "      <td>23</td>\n",
       "      <td>26</td>\n",
       "      <td>28</td>\n",
       "      <td>NaN</td>\n",
       "    </tr>\n",
       "    <tr>\n",
       "      <th>top</th>\n",
       "      <td>Cars 3</td>\n",
       "      <td>NaN</td>\n",
       "      <td>2017-05-23</td>\n",
       "      <td>Brian Fee</td>\n",
       "      <td>Lighting McQueen</td>\n",
       "      <td>01:42:25</td>\n",
       "      <td>NaN</td>\n",
       "    </tr>\n",
       "    <tr>\n",
       "      <th>freq</th>\n",
       "      <td>10</td>\n",
       "      <td>NaN</td>\n",
       "      <td>10</td>\n",
       "      <td>10</td>\n",
       "      <td>10</td>\n",
       "      <td>10</td>\n",
       "      <td>NaN</td>\n",
       "    </tr>\n",
       "    <tr>\n",
       "      <th>mean</th>\n",
       "      <td>NaN</td>\n",
       "      <td>2008.428571</td>\n",
       "      <td>NaN</td>\n",
       "      <td>NaN</td>\n",
       "      <td>NaN</td>\n",
       "      <td>NaN</td>\n",
       "      <td>5.021978</td>\n",
       "    </tr>\n",
       "    <tr>\n",
       "      <th>std</th>\n",
       "      <td>NaN</td>\n",
       "      <td>5.731284</td>\n",
       "      <td>NaN</td>\n",
       "      <td>NaN</td>\n",
       "      <td>NaN</td>\n",
       "      <td>NaN</td>\n",
       "      <td>3.040387</td>\n",
       "    </tr>\n",
       "    <tr>\n",
       "      <th>min</th>\n",
       "      <td>NaN</td>\n",
       "      <td>1996.000000</td>\n",
       "      <td>NaN</td>\n",
       "      <td>NaN</td>\n",
       "      <td>NaN</td>\n",
       "      <td>NaN</td>\n",
       "      <td>1.000000</td>\n",
       "    </tr>\n",
       "    <tr>\n",
       "      <th>25%</th>\n",
       "      <td>NaN</td>\n",
       "      <td>2004.500000</td>\n",
       "      <td>NaN</td>\n",
       "      <td>NaN</td>\n",
       "      <td>NaN</td>\n",
       "      <td>NaN</td>\n",
       "      <td>3.000000</td>\n",
       "    </tr>\n",
       "    <tr>\n",
       "      <th>50%</th>\n",
       "      <td>NaN</td>\n",
       "      <td>2010.000000</td>\n",
       "      <td>NaN</td>\n",
       "      <td>NaN</td>\n",
       "      <td>NaN</td>\n",
       "      <td>NaN</td>\n",
       "      <td>5.000000</td>\n",
       "    </tr>\n",
       "    <tr>\n",
       "      <th>75%</th>\n",
       "      <td>NaN</td>\n",
       "      <td>2013.000000</td>\n",
       "      <td>NaN</td>\n",
       "      <td>NaN</td>\n",
       "      <td>NaN</td>\n",
       "      <td>NaN</td>\n",
       "      <td>6.000000</td>\n",
       "    </tr>\n",
       "    <tr>\n",
       "      <th>max</th>\n",
       "      <td>NaN</td>\n",
       "      <td>2017.000000</td>\n",
       "      <td>NaN</td>\n",
       "      <td>NaN</td>\n",
       "      <td>NaN</td>\n",
       "      <td>NaN</td>\n",
       "      <td>10.000000</td>\n",
       "    </tr>\n",
       "  </tbody>\n",
       "</table>\n",
       "</div>"
      ],
      "text/plain": [
       "         movie         year release_date   director         character  \\\n",
       "count       91    91.000000           91         91                91   \n",
       "unique      29          NaN           29         23                26   \n",
       "top     Cars 3          NaN   2017-05-23  Brian Fee  Lighting McQueen   \n",
       "freq        10          NaN           10         10                10   \n",
       "mean       NaN  2008.428571          NaN        NaN               NaN   \n",
       "std        NaN     5.731284          NaN        NaN               NaN   \n",
       "min        NaN  1996.000000          NaN        NaN               NaN   \n",
       "25%        NaN  2004.500000          NaN        NaN               NaN   \n",
       "50%        NaN  2010.000000          NaN        NaN               NaN   \n",
       "75%        NaN  2013.000000          NaN        NaN               NaN   \n",
       "max        NaN  2017.000000          NaN        NaN               NaN   \n",
       "\n",
       "       movie_duration  total_wows_in_movie  \n",
       "count              91            91.000000  \n",
       "unique             28                  NaN  \n",
       "top          01:42:25                  NaN  \n",
       "freq               10                  NaN  \n",
       "mean              NaN             5.021978  \n",
       "std               NaN             3.040387  \n",
       "min               NaN             1.000000  \n",
       "25%               NaN             3.000000  \n",
       "50%               NaN             5.000000  \n",
       "75%               NaN             6.000000  \n",
       "max               NaN            10.000000  "
      ]
     },
     "execution_count": 6,
     "metadata": {},
     "output_type": "execute_result"
    }
   ],
   "source": [
    "df.describe(include='all')"
   ]
  },
  {
   "cell_type": "markdown",
   "id": "c74a52f3",
   "metadata": {},
   "source": [
    "Release date is not recognized as a datetime object. Fix it:"
   ]
  },
  {
   "cell_type": "code",
   "execution_count": 7,
   "id": "533e7cf7",
   "metadata": {},
   "outputs": [],
   "source": [
    "df['release_date']= pd.to_datetime(df['release_date'])"
   ]
  },
  {
   "cell_type": "markdown",
   "id": "b2ff44b7",
   "metadata": {},
   "source": [
    "Generate a pivot table indexing on Movie, sorting by release date:"
   ]
  },
  {
   "cell_type": "code",
   "execution_count": 8,
   "id": "45139343",
   "metadata": {},
   "outputs": [],
   "source": [
    "table = pd.pivot_table(df, index=['movie'],\n",
    "                    aggfunc=np.max).sort_values(by=['release_date'],ascending=True)"
   ]
  },
  {
   "cell_type": "code",
   "execution_count": 9,
   "id": "be322b4e",
   "metadata": {},
   "outputs": [
    {
     "data": {
      "text/html": [
       "<div>\n",
       "<style scoped>\n",
       "    .dataframe tbody tr th:only-of-type {\n",
       "        vertical-align: middle;\n",
       "    }\n",
       "\n",
       "    .dataframe tbody tr th {\n",
       "        vertical-align: top;\n",
       "    }\n",
       "\n",
       "    .dataframe thead th {\n",
       "        text-align: right;\n",
       "    }\n",
       "</style>\n",
       "<table border=\"1\" class=\"dataframe\">\n",
       "  <thead>\n",
       "    <tr style=\"text-align: right;\">\n",
       "      <th></th>\n",
       "      <th>character</th>\n",
       "      <th>director</th>\n",
       "      <th>movie_duration</th>\n",
       "      <th>release_date</th>\n",
       "      <th>total_wows_in_movie</th>\n",
       "      <th>year</th>\n",
       "    </tr>\n",
       "    <tr>\n",
       "      <th>movie</th>\n",
       "      <th></th>\n",
       "      <th></th>\n",
       "      <th></th>\n",
       "      <th></th>\n",
       "      <th></th>\n",
       "      <th></th>\n",
       "    </tr>\n",
       "  </thead>\n",
       "  <tbody>\n",
       "    <tr>\n",
       "      <th>Bottle Rocket</th>\n",
       "      <td>Dignan</td>\n",
       "      <td>Wes Anderson</td>\n",
       "      <td>01:31:44</td>\n",
       "      <td>1996-02-21</td>\n",
       "      <td>3</td>\n",
       "      <td>1996</td>\n",
       "    </tr>\n",
       "    <tr>\n",
       "      <th>The Haunting</th>\n",
       "      <td>Luke Sanderson</td>\n",
       "      <td>Jan de Bont</td>\n",
       "      <td>01:52:37</td>\n",
       "      <td>1999-07-23</td>\n",
       "      <td>5</td>\n",
       "      <td>1999</td>\n",
       "    </tr>\n",
       "    <tr>\n",
       "      <th>Breakfast of Champions</th>\n",
       "      <td>Monte Rapid</td>\n",
       "      <td>Alan Rudolph</td>\n",
       "      <td>01:49:49</td>\n",
       "      <td>1999-09-17</td>\n",
       "      <td>1</td>\n",
       "      <td>1999</td>\n",
       "    </tr>\n",
       "    <tr>\n",
       "      <th>Shanghai Noon</th>\n",
       "      <td>Roy O'Bannon</td>\n",
       "      <td>Tom Dey</td>\n",
       "      <td>01:50:18</td>\n",
       "      <td>2000-05-23</td>\n",
       "      <td>1</td>\n",
       "      <td>2000</td>\n",
       "    </tr>\n",
       "    <tr>\n",
       "      <th>Meet the Parents</th>\n",
       "      <td>Kevin Rawley</td>\n",
       "      <td>Jay Roach</td>\n",
       "      <td>01:47:39</td>\n",
       "      <td>2000-10-06</td>\n",
       "      <td>2</td>\n",
       "      <td>2000</td>\n",
       "    </tr>\n",
       "  </tbody>\n",
       "</table>\n",
       "</div>"
      ],
      "text/plain": [
       "                             character      director movie_duration  \\\n",
       "movie                                                                 \n",
       "Bottle Rocket                   Dignan  Wes Anderson       01:31:44   \n",
       "The Haunting            Luke Sanderson   Jan de Bont       01:52:37   \n",
       "Breakfast of Champions     Monte Rapid  Alan Rudolph       01:49:49   \n",
       "Shanghai Noon             Roy O'Bannon       Tom Dey       01:50:18   \n",
       "Meet the Parents          Kevin Rawley     Jay Roach       01:47:39   \n",
       "\n",
       "                       release_date  total_wows_in_movie  year  \n",
       "movie                                                           \n",
       "Bottle Rocket            1996-02-21                    3  1996  \n",
       "The Haunting             1999-07-23                    5  1999  \n",
       "Breakfast of Champions   1999-09-17                    1  1999  \n",
       "Shanghai Noon            2000-05-23                    1  2000  \n",
       "Meet the Parents         2000-10-06                    2  2000  "
      ]
     },
     "execution_count": 9,
     "metadata": {},
     "output_type": "execute_result"
    }
   ],
   "source": [
    "table.head()"
   ]
  },
  {
   "cell_type": "markdown",
   "id": "9d72c9df",
   "metadata": {},
   "source": [
    "Check properties:"
   ]
  },
  {
   "cell_type": "code",
   "execution_count": 10,
   "id": "d69707b8",
   "metadata": {},
   "outputs": [
    {
     "data": {
      "text/plain": [
       "pandas.core.frame.DataFrame"
      ]
     },
     "execution_count": 10,
     "metadata": {},
     "output_type": "execute_result"
    }
   ],
   "source": [
    "type(table)"
   ]
  },
  {
   "cell_type": "code",
   "execution_count": 11,
   "id": "0e25f41a",
   "metadata": {},
   "outputs": [
    {
     "name": "stdout",
     "output_type": "stream",
     "text": [
      "<class 'pandas.core.frame.DataFrame'>\n",
      "Index: 29 entries, Bottle Rocket to Father Figures\n",
      "Data columns (total 6 columns):\n",
      " #   Column               Non-Null Count  Dtype         \n",
      "---  ------               --------------  -----         \n",
      " 0   character            29 non-null     object        \n",
      " 1   director             29 non-null     object        \n",
      " 2   movie_duration       29 non-null     object        \n",
      " 3   release_date         29 non-null     datetime64[ns]\n",
      " 4   total_wows_in_movie  29 non-null     int64         \n",
      " 5   year                 29 non-null     int64         \n",
      "dtypes: datetime64[ns](1), int64(2), object(3)\n",
      "memory usage: 1.6+ KB\n"
     ]
    }
   ],
   "source": [
    "table.info()"
   ]
  },
  {
   "cell_type": "markdown",
   "id": "9ab356e9",
   "metadata": {},
   "source": [
    "Export data as CSV:"
   ]
  },
  {
   "cell_type": "code",
   "execution_count": 12,
   "id": "19626c82",
   "metadata": {},
   "outputs": [],
   "source": [
    "table.to_csv('Owen_Wilson_Wows.csv')"
   ]
  }
 ],
 "metadata": {
  "kernelspec": {
   "display_name": "Python 3 (ipykernel)",
   "language": "python",
   "name": "python3"
  },
  "language_info": {
   "codemirror_mode": {
    "name": "ipython",
    "version": 3
   },
   "file_extension": ".py",
   "mimetype": "text/x-python",
   "name": "python",
   "nbconvert_exporter": "python",
   "pygments_lexer": "ipython3",
   "version": "3.10.4"
  }
 },
 "nbformat": 4,
 "nbformat_minor": 5
}
