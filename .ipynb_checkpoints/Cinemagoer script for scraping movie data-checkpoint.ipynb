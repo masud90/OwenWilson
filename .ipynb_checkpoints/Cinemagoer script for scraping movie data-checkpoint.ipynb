{
 "cells": [
  {
   "cell_type": "code",
   "execution_count": 1,
   "id": "19693e25",
   "metadata": {},
   "outputs": [],
   "source": [
    "# Import dependencies\n",
    "import pandas as pd\n",
    "from imdb import Cinemagoer"
   ]
  },
  {
   "cell_type": "code",
   "execution_count": 3,
   "id": "5076fb22",
   "metadata": {},
   "outputs": [
    {
     "name": "stdout",
     "output_type": "stream",
     "text": [
      "     IMDB ID                   Movie Name  Year           Character\n",
      "0   14472156                        Paint  2023         Carl Nargle\n",
      "1    1695843              Haunted Mansion  2023                Kent\n",
      "2    9140554                         Loki  2021              Mobius\n",
      "3   11981568             Cars on the Road  2022   Lightning McQueen\n",
      "4   14001894          Secret Headquarters  2022                Jack\n",
      "5   10223460                     Marry Me  2022             Charlie\n",
      "6   10333426                        Bliss  2021         Greg Wittle\n",
      "7    8847712          The French Dispatch  2020   Herbsaint Sazerac\n",
      "8    4677934             Documentary Now!  2019  Father Ra-Shawbard\n",
      "9    8205060         LEGO The Incredibles  2018   Lightning McQueen\n",
      "10   1966359               Father Figures  2017       Kyle Reynolds\n",
      "11   2543472                       Wonder  2017                Nate\n",
      "12   3748256  Tales from Radiator Springs  2014   Lightning McQueen\n",
      "13   3606752                       Cars 3  2017   Lightning McQueen\n",
      "14   6338476               Lost in London  2017                Owen\n",
      "15   5940466       Zoolander: Super Model  2016              Hansel\n",
      "16   0072562          Saturday Night Live  2016              Hansel\n"
     ]
    }
   ],
   "source": [
    "# Set up a Cinemagoer environment\n",
    "\n",
    "ia = Cinemagoer()\n",
    "\n",
    "# Get the person object for Owen Wilson\n",
    "person = ia.get_person('0005562')\n",
    "\n",
    "# Get the list of movies where Owen Wilson has acted\n",
    "movies = person.get('actor')\n",
    "\n",
    "# Create a list of movie dictionaries\n",
    "movie_list = []\n",
    "for movie in movies:\n",
    "    year = movie.get('year')\n",
    "    for role in movie.currentRole:\n",
    "        character = role['name']\n",
    "    movie_list.append({'IMDB ID': movie.movieID, 'Movie Name': movie['title'],'Year': year,'Character' : character})\n",
    "\n",
    "# Create a Pandas Dataframe\n",
    "df = pd.DataFrame(movie_list)\n",
    "\n",
    "# Print the Dataframe\n",
    "print(df)"
   ]
  },
  {
   "cell_type": "raw",
   "id": "524be961",
   "metadata": {},
   "source": []
  }
 ],
 "metadata": {
  "kernelspec": {
   "display_name": "Python 3 (ipykernel)",
   "language": "python",
   "name": "python3"
  },
  "language_info": {
   "codemirror_mode": {
    "name": "ipython",
    "version": 3
   },
   "file_extension": ".py",
   "mimetype": "text/x-python",
   "name": "python",
   "nbconvert_exporter": "python",
   "pygments_lexer": "ipython3",
   "version": "3.10.4"
  }
 },
 "nbformat": 4,
 "nbformat_minor": 5
}
